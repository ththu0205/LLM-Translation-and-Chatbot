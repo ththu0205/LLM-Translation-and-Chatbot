{
 "cells": [
  {
   "cell_type": "code",
   "execution_count": 3,
   "metadata": {},
   "outputs": [
    {
     "name": "stdout",
     "output_type": "stream",
     "text": [
      "By Role\n",
      "By Team\n",
      "At Presight, we are committed to protecting the privacy of our customers and visitors to our website. This Privacy Policy explains how we collect, use, and disclose information about our customers and visitors.\n",
      "We collect several different types of information for various purposes to provide and improve our Service to you.\n",
      "While using our Service, we may ask you to provide us with certain personally identifiable information that can be used to contact or identify you (\"Personal Data\"). Personally identifiable information may include, but is not limited to:\n",
      "We may also collect information that your browser sends whenever you visit our Service or when you access the Service by or through a mobile device (\"Usage Data\"). This Usage Data may include information such as your computer's Internet Protocol address (e.g. IP address), browser type, browser version, the pages of our Service that you visit, the time and date of your visit, the time spent on those pages, unique device identifiers, and other diagnostic data.\n",
      "Presight uses the collected data for various purposes:\n",
      "As personal information is collected, you will be asked to confirm that your information is correct prior to submitting it to Presight.\n",
      "You have the right to access all of your personal information that we hold. Through the application, you can correct, amend, or append your personal information by logging into the application and navigating to your settings and profile.\n",
      "Presight employs automated edit checks to ensure that data entry fields are completed properly when collecting personal information. These edit checks help maintain data integrity and accuracy. You are encouraged to provide complete and valid information to ensure the smooth processing of their personal data.\n",
      "We may disclose your application data to third-party service providers who help us provide our services such as Datadog, AWS, Google Cloud and Google Workspace. We may also disclose your information in response to a legal request, such as a subpoena or court order, or to protect our rights or the rights of others.\n",
      "Your personal data will not be subject to sharing, transfer, rental or exchange for the benefit of third parties, including AI models.\n",
      "In all cases when users authenticate the platform to Google Workspace, the following applies:\n",
      "Customer data is retained for as long as the account is in active status. Data enters an “expired” state when the account is voluntarily closed. Expired account data will be retained for 60 days. After this period, the account and related data will be removed.\n",
      "We use cookies to enhance your experience on our website. You can control the use of cookies through your web browser settings.\n",
      "Our website may contain links to third-party websites. We are not responsible for the privacy practices or content of those websites.\n",
      "We may update this Privacy Policy from time to time. The updated Privacy Policy will be posted on our website.\n",
      "If you have any questions about this Privacy Policy, please contact us through the customer portal or by email atpresight@presight.io.\n",
      "We commit to only use personal information for the purposes identified in the entity's privacy policy.\n",
      "Presight.io 2022 All Rights Reserved\n",
      "Ho Chi Minh City, Vietnam\n",
      "Singapore\n",
      "Seattle, WA, USA\n"
     ]
    }
   ],
   "source": [
    "import requests\n",
    "from bs4 import BeautifulSoup\n",
    "\n",
    "# Gửi yêu cầu GET đến trang web\n",
    "url = \"https://www.presight.io/privacy-policy.html\"  \n",
    "response = requests.get(url)  # Lấy nội dung HTML của trang\n",
    "\n",
    "soup = BeautifulSoup(response.content, 'html.parser')  # Sử dụng BeautifulSoup để phân tích HTML\n",
    "\n",
    "# Trích xuất tất cả các thẻ <p> (đoạn văn)\n",
    "paragraphs = soup.find_all('p')  \n",
    "data = [p.get_text(strip=True) for p in paragraphs]  # Lấy nội dung văn bản từ các thẻ <p>, loại bỏ khoảng trắng\n",
    "\n",
    "# In ra dữ liệu đã trích xuất\n",
    "print(\"\\n\".join(data)) \n"
   ]
  }
 ],
 "metadata": {
  "kernelspec": {
   "display_name": "Python 3",
   "language": "python",
   "name": "python3"
  },
  "language_info": {
   "codemirror_mode": {
    "name": "ipython",
    "version": 3
   },
   "file_extension": ".py",
   "mimetype": "text/x-python",
   "name": "python",
   "nbconvert_exporter": "python",
   "pygments_lexer": "ipython3",
   "version": "3.12.2"
  }
 },
 "nbformat": 4,
 "nbformat_minor": 2
}
